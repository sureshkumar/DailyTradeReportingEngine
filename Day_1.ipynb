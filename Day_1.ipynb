{
  "nbformat": 4,
  "nbformat_minor": 0,
  "metadata": {
    "colab": {
      "provenance": [],
      "include_colab_link": true
    },
    "kernelspec": {
      "name": "python3",
      "display_name": "Python 3"
    },
    "language_info": {
      "name": "python"
    }
  },
  "cells": [
    {
      "cell_type": "markdown",
      "metadata": {
        "id": "view-in-github",
        "colab_type": "text"
      },
      "source": [
        "<a href=\"https://colab.research.google.com/github/sureshkumar/DailyTradeReportingEngine/blob/master/Day_1.ipynb\" target=\"_parent\"><img src=\"https://colab.research.google.com/assets/colab-badge.svg\" alt=\"Open In Colab\"/></a>"
      ]
    },
    {
      "cell_type": "code",
      "source": [
        "class Calculator:\n",
        "  def __init__(self, num1, num2):\n",
        "    self.num1 = num1\n",
        "    self.num2 = num2\n",
        "\n",
        "  def add(self):\n",
        "    print( self.num1 + self.num2)\n",
        "\n",
        "  def sub(self):\n",
        "    print( self.num1 - self.num2)\n",
        "\n",
        "  def mul(self):\n",
        "    print( self.num1 * self.num2)\n",
        "\n",
        "  def div(self):\n",
        "    if self.num2 !=0:\n",
        "      print( self.num1 / self.num2)\n",
        "    else:\n",
        "      print( \"Division by zero is not possible\")\n",
        "\n",
        "c1 = Calculator(10,5)\n",
        "c1.add()\n",
        "c1.sub()\n",
        "c1.mul()\n",
        "c1.div()\n",
        "\n",
        "c2 = Calculator(100,20)\n",
        "c2.add()\n",
        "c2.sub()\n",
        "c2.mul()\n",
        "c2.div()"
      ],
      "metadata": {
        "id": "c0gr3U9SDyLm",
        "outputId": "c38c1560-d92e-4d0d-c1d0-d0e493afa89a",
        "colab": {
          "base_uri": "https://localhost:8080/"
        }
      },
      "execution_count": null,
      "outputs": [
        {
          "output_type": "stream",
          "name": "stdout",
          "text": [
            "hello word!!\n"
          ]
        }
      ]
    }
  ]
}